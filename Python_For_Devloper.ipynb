{
  "nbformat": 4,
  "nbformat_minor": 0,
  "metadata": {
    "colab": {
      "provenance": [],
      "authorship_tag": "ABX9TyOpTc+H5CVSdPt4KSbp3zko",
      "include_colab_link": true
    },
    "kernelspec": {
      "name": "python3",
      "display_name": "Python 3"
    },
    "language_info": {
      "name": "python"
    }
  },
  "cells": [
    {
      "cell_type": "markdown",
      "metadata": {
        "id": "view-in-github",
        "colab_type": "text"
      },
      "source": [
        "<a href=\"https://colab.research.google.com/github/arpakraei/Py_FS/blob/main/Python_For_Devloper.ipynb\" target=\"_parent\"><img src=\"https://colab.research.google.com/assets/colab-badge.svg\" alt=\"Open In Colab\"/></a>"
      ]
    },
    {
      "cell_type": "code",
      "execution_count": 13,
      "metadata": {
        "colab": {
          "base_uri": "https://localhost:8080/"
        },
        "id": "--KgckLofsi4",
        "outputId": "ae8d2b05-8588-49d7-85a2-1cea5a759405"
      },
      "outputs": [
        {
          "output_type": "stream",
          "name": "stdout",
          "text": [
            "1 pen\n",
            "2 socks\n",
            "3 sandal\n",
            "4 pencel\n",
            "reza Pakray\n",
            "Tahereh Azadi\n"
          ]
        }
      ],
      "source": [
        "# Create a List and Go around That\n",
        "\n",
        "Product_list_index=[1,2,3,4]\n",
        "Product_list_name = [\"pen\",\"socks\",\"sandal\",\"pencel\"]\n",
        "for x in  range(len(Product_list_index)):\n",
        "  print(str(Product_list_index[x])+ \" \" + Product_list_name[x])\n",
        "\n",
        "\n",
        "# create a dictionary\n",
        "CustomerDictionary={24900941016:\"reza Pakray\",2491181010:\"Tahereh Azadi\"}\n",
        "#print(CustomerDictionary.keys())\n",
        "\n",
        "\n",
        "for items in CustomerDictionary :\n",
        "  print(CustomerDictionary[items])\n"
      ]
    }
  ]
}